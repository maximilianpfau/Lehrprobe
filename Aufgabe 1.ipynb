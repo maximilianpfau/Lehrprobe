{
 "cells": [
  {
   "cell_type": "markdown",
   "metadata": {},
   "source": [
    "# Aufgabe 1: \"fully-connected neuronales Netz\" für Bilddaten\n",
    "\n",
    "### CNN Seminar des Biomedical Data Science Curriculums\n",
    "\n",
    "<span style=\"color:red\">**Anmerkung:** Version mit Lösung für die Lehrprobe, Universitätsmedizin Göttingen\n",
    "Freitag, 25. September 2020 </span>\n",
    "\n",
    "\n",
    "**Ziel:** Training eines \"fully-connected neuronalen Netz\" für die Klassifikation der MNIST Zahlen\n",
    "\n",
    "<img src=\"figures/example_1.png\" width=500px>\n",
    "\n",
    "**ToDo:**\n",
    "- Vervollständigen Sie die Lücken im Code (mit #ToDo und Kommentar versehenen)\n",
    "- Führen Sie am Ende die Selbstkontrolle aus, um die Funktionalität sicherzustellen\n",
    "- Reichen Sie den finalen Code per Email als *.html Export ein\n",
    "\n",
    "**Freiwillige Zusatzaufgaben:**\n",
    "- Implementieren Sie ein mehrschichtiges neuronales Netz\n",
    "\n",
    "**Lernziele:**\n",
    "- Kennenlernen der MNIST Daten\n",
    "- Definition eines neuronalen Netz in PyTorch\n",
    "- Erlernen einen Tensor zu \"flatten\""
   ]
  },
  {
   "cell_type": "code",
   "execution_count": 2,
   "metadata": {},
   "outputs": [],
   "source": [
    "# Vorbereitung - keine Änderungen in diesem Block notwendig\n",
    "\n",
    "# Import der Bibliotheken\n",
    "import torch\n",
    "from torch import nn\n",
    "from torch import optim\n",
    "import torch.nn.functional as F\n",
    "from torchvision import datasets, transforms\n",
    "\n",
    "import numpy as np\n",
    "import matplotlib.pyplot as plt\n",
    "%matplotlib inline\n",
    "\n",
    "# Definition von \"transform\" um die Daten zu normalisieren\n",
    "transform = transforms.Compose([transforms.ToTensor(),\n",
    "                                transforms.Normalize((0.5,), (0.5,)), ])\n",
    "\n",
    "# Download der MNIST Daten\n",
    "data_set = datasets.MNIST('~/.pytorch/MNIST_data/', download=True, train=True, transform=transform)\n",
    "\n",
    "# Daten Aufteilung und Definition des \"trainloader\"\n",
    "train_set, val_set = torch.utils.data.random_split(data_set, [50000, 10000])\n",
    "\n",
    "train_loader = torch.utils.data.DataLoader(train_set, batch_size=64, shuffle=True)\n",
    "val_loader = torch.utils.data.DataLoader(val_set, batch_size=64, shuffle=True)"
   ]
  },
  {
   "cell_type": "code",
   "execution_count": null,
   "metadata": {},
   "outputs": [],
   "source": [
    "# Teilaufgabe 1: Definiere ein einfaches NN mit 768 input features und 10 output features (für die Ziffern 0 - 9)\n",
    "model = nn.Sequential(#ToDo,\n",
    "                      nn.LogSoftmax(dim=1))\n",
    "\n",
    "loss_function = nn.NLLLoss()\n",
    "optimizer = optim.SGD(model.parameters(), lr=0.003)\n",
    "\n",
    "# Äußerer Loop für die Epochen\n",
    "epochs = 10\n",
    "for e in range(epochs):\n",
    "    \n",
    "    # Loop für Training\n",
    "    running_train_loss = 0\n",
    "    for images, labels in train_loader:\n",
    "        \n",
    "        # Teilaufgabe 2: \"Flatten\" des Inputs, wandeln Sie den [batch_size, 1, 28, 28] \"images\" Tensor \n",
    "        # in ein [batch_size, 784] Tesnor um\n",
    "        images = # ToDo\n",
    "    \n",
    "        optimizer.zero_grad()\n",
    "        \n",
    "        # Teilaufgabe 3: Generieren Sie den \"output\" des NNs (forward pass),\n",
    "        # errechnen Sie den \"train_loss\" mit Hilfe \"loss_function\", dem output und den wahren \"labels\"\n",
    "        output = # ToDo\n",
    "        train_loss = # ToDo\n",
    "        \n",
    "        train_loss.backward()\n",
    "        optimizer.step()\n",
    "        \n",
    "        running_train_loss += train_loss.item()\n",
    "        \n",
    "    print(f\"Training loss: {running_train_loss/len(train_loader)}\")\n",
    "    \n",
    "    # Loop für Validation\n",
    "    running_val_loss = 0\n",
    "    for images, labels in val_loader:\n",
    "        \n",
    "        images = # ToDo, siehe oben\n",
    "        \n",
    "        output = # ToDo, siehe oben\n",
    "        val_loss = # ToDo, siehe oben\n",
    "        \n",
    "        running_val_loss += val_loss.item()\n",
    "        \n",
    "    print(f\"Validation loss: {running_val_loss/len(val_loader)}\")"
   ]
  },
  {
   "cell_type": "markdown",
   "metadata": {},
   "source": [
    "## Lösung\n",
    "\n",
    "<span style=\"color:red\">**Anmerkung:** Version mit Lösung für die Lehrprobe, Universitätsmedizin Göttingen\n",
    "Freitag, 25. September 2020 </span>"
   ]
  },
  {
   "cell_type": "code",
   "execution_count": 3,
   "metadata": {},
   "outputs": [
    {
     "name": "stdout",
     "output_type": "stream",
     "text": [
      "Training loss: 0.981009046897254\n",
      "Validation loss: 0.629997207480631\n",
      "Training loss: 0.539974057384769\n",
      "Validation loss: 0.504897692021291\n",
      "Training loss: 0.4616165934392558\n",
      "Validation loss: 0.45502340822083176\n",
      "Training loss: 0.4235408054974378\n",
      "Validation loss: 0.4280736792808885\n",
      "Training loss: 0.4001792473408877\n",
      "Validation loss: 0.40618701317128103\n",
      "Training loss: 0.3842665891894294\n",
      "Validation loss: 0.3937177842210053\n",
      "Training loss: 0.3720266922469944\n",
      "Validation loss: 0.38331136439636254\n",
      "Training loss: 0.36206517486697265\n",
      "Validation loss: 0.3736775732913594\n",
      "Training loss: 0.35459228747945915\n",
      "Validation loss: 0.37019144596567577\n",
      "Training loss: 0.34809563491884093\n",
      "Validation loss: 0.3619562898092209\n"
     ]
    }
   ],
   "source": [
    "# Teilaufgabe 1: Definiere ein einfaches NN mit 768 input features und 10 output features (für die Ziffern 0 - 9)\n",
    "model = nn.Sequential(nn.Linear(784, 10),\n",
    "                      nn.LogSoftmax(dim=1))\n",
    "\n",
    "\n",
    "\n",
    "#Alternative Lösung: NN mit hidden layers\n",
    "#model = nn.Sequential(nn.Linear(784, 128),\n",
    "#                      nn.ReLU(),\n",
    "#                      nn.Linear(128, 64),\n",
    "#                      nn.ReLU(),\n",
    "#                      nn.Linear(64, 10),\n",
    "#                      nn.LogSoftmax(dim=1))\n",
    "\n",
    "\n",
    "loss_function = nn.NLLLoss()\n",
    "optimizer = optim.SGD(model.parameters(), lr=0.003)\n",
    "\n",
    "# Äußerer Loop für die Epochen\n",
    "epochs = 10\n",
    "for e in range(epochs):\n",
    "    \n",
    "    # Loop für Training\n",
    "    running_train_loss = 0\n",
    "    for images, labels in train_loader:\n",
    "        \n",
    "        # Teilaufgabe 1: \"Flatten\" des Inputs, wandeln Sie den [batch_size, 1, 28, 28] \"images\" Tensor \n",
    "        # in ein [batch_size, 784] Tesnor um\n",
    "        images = images.view(images.shape[0], -1)\n",
    "    \n",
    "        optimizer.zero_grad()\n",
    "        \n",
    "        # Teilaufgabe 2: Generieren Sie den \"output\" des NNs (forward pass),\n",
    "        # errechnen Sie den \"train_loss\" mit Hilfe \"loss_function\", dem output und den wahren \"labels\"\n",
    "        output = model(images)\n",
    "        train_loss = loss_function(output, labels)\n",
    "        \n",
    "        train_loss.backward()\n",
    "        optimizer.step()\n",
    "        \n",
    "        running_train_loss += train_loss.item()\n",
    "        \n",
    "    print(f\"Training loss: {running_train_loss/len(train_loader)}\")\n",
    "    \n",
    "    # Loop für Validation\n",
    "    running_val_loss = 0\n",
    "    for images, labels in val_loader:\n",
    "        \n",
    "        images = images.view(images.shape[0], -1)\n",
    "        \n",
    "        output = model(images)\n",
    "        val_loss = loss_function(output, labels)\n",
    "        \n",
    "        running_val_loss += val_loss.item()\n",
    "        \n",
    "    print(f\"Validation loss: {running_val_loss/len(val_loader)}\")\n",
    "    \n",
    "    "
   ]
  },
  {
   "cell_type": "markdown",
   "metadata": {},
   "source": [
    "### Selbstkontrolle\n",
    "Führen Sie den folgenden Code aus, um die Funktion Ihres NN zu überprüfen."
   ]
  },
  {
   "cell_type": "code",
   "execution_count": 4,
   "metadata": {},
   "outputs": [
    {
     "data": {
      "text/plain": [
       "[<matplotlib.axis.YTick at 0x282d06abcc0>,\n",
       " <matplotlib.axis.YTick at 0x282d06ab6a0>,\n",
       " <matplotlib.axis.YTick at 0x282d06a2e48>,\n",
       " <matplotlib.axis.YTick at 0x282cd8d3a58>,\n",
       " <matplotlib.axis.YTick at 0x282cd8d3ef0>,\n",
       " <matplotlib.axis.YTick at 0x282cd8e53c8>,\n",
       " <matplotlib.axis.YTick at 0x282cd8d35f8>,\n",
       " <matplotlib.axis.YTick at 0x282cd8e5390>,\n",
       " <matplotlib.axis.YTick at 0x282cd8e5da0>,\n",
       " <matplotlib.axis.YTick at 0x282cd8ef278>]"
      ]
     },
     "execution_count": 4,
     "metadata": {},
     "output_type": "execute_result"
    },
    {
     "data": {
      "image/png": "[encoded data removed]",
      "text/plain": [
       "<Figure size 432x216 with 2 Axes>"
      ]
     },
     "metadata": {
      "needs_background": "light"
     },
     "output_type": "display_data"
    }
   ],
   "source": [
    "# Extraktion eines Beispielbilds\n",
    "images, labels = next(iter(val_loader))\n",
    "img = images[0].view(1, 784)\n",
    "\n",
    "# NN ausführen\n",
    "pred_logprobs = model(img)\n",
    "\n",
    "# Log-Wahrscheinlichkeit zu Standardeinheitsintervall\n",
    "pred_probs = torch.exp(pred_logprobs)\n",
    "\n",
    "# Plotten des Ergebnisses\n",
    "fig, (ax1, ax2) = plt.subplots(figsize=(6,3), ncols=2)\n",
    "\n",
    "ax1.imshow(images[0][0])\n",
    "ax2.barh(np.arange(10), pred_probs[0].data.numpy().squeeze())\n",
    "ax2.set_yticks(np.arange(10))"
   ]
  }
 ],
 "metadata": {
  "kernelspec": {
   "display_name": "Python 3",
   "language": "python",
   "name": "python3"
  },
  "language_info": {
   "codemirror_mode": {
    "name": "ipython",
    "version": 3
   },
   "file_extension": ".py",
   "mimetype": "text/x-python",
   "name": "python",
   "nbconvert_exporter": "python",
   "pygments_lexer": "ipython3",
   "version": "3.7.3"
  }
 },
 "nbformat": 4,
 "nbformat_minor": 2
}
